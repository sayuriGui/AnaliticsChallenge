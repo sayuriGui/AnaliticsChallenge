{
 "cells": [
  {
   "cell_type": "code",
   "execution_count": 1,
   "metadata": {},
   "outputs": [],
   "source": [
    "import pandas as pd\n",
    "import numpy as np\n",
    "import seaborn as sns\n",
    "from matplotlib import pyplot as plt"
   ]
  },
  {
   "cell_type": "markdown",
   "metadata": {},
   "source": [
    "Read the CSV"
   ]
  },
  {
   "cell_type": "code",
   "execution_count": 2,
   "metadata": {
    "scrolled": true
   },
   "outputs": [
    {
     "data": {
      "text/html": [
       "<div>\n",
       "<style scoped>\n",
       "    .dataframe tbody tr th:only-of-type {\n",
       "        vertical-align: middle;\n",
       "    }\n",
       "\n",
       "    .dataframe tbody tr th {\n",
       "        vertical-align: top;\n",
       "    }\n",
       "\n",
       "    .dataframe thead th {\n",
       "        text-align: right;\n",
       "    }\n",
       "</style>\n",
       "<table border=\"1\" class=\"dataframe\">\n",
       "  <thead>\n",
       "    <tr style=\"text-align: right;\">\n",
       "      <th></th>\n",
       "      <th>Fecha</th>\n",
       "      <th>Resultado</th>\n",
       "      <th>Federal</th>\n",
       "      <th>UdeG</th>\n",
       "      <th>Privado</th>\n",
       "      <th>Rapidas</th>\n",
       "    </tr>\n",
       "  </thead>\n",
       "  <tbody>\n",
       "    <tr>\n",
       "      <th>0</th>\n",
       "      <td>17/04/2020</td>\n",
       "      <td>Confirmados</td>\n",
       "      <td>190.0</td>\n",
       "      <td>0.0</td>\n",
       "      <td>18.0</td>\n",
       "      <td>Na</td>\n",
       "    </tr>\n",
       "    <tr>\n",
       "      <th>1</th>\n",
       "      <td>17/04/2020</td>\n",
       "      <td>Descartados</td>\n",
       "      <td>2601.0</td>\n",
       "      <td>110.0</td>\n",
       "      <td>271.0</td>\n",
       "      <td>Na</td>\n",
       "    </tr>\n",
       "    <tr>\n",
       "      <th>2</th>\n",
       "      <td>17/04/2020</td>\n",
       "      <td>Sospechosos</td>\n",
       "      <td>573.0</td>\n",
       "      <td>18.0</td>\n",
       "      <td>0.0</td>\n",
       "      <td>Na</td>\n",
       "    </tr>\n",
       "    <tr>\n",
       "      <th>3</th>\n",
       "      <td>18/04/2020</td>\n",
       "      <td>Confirmados</td>\n",
       "      <td>196.0</td>\n",
       "      <td>0.0</td>\n",
       "      <td>18.0</td>\n",
       "      <td>Na</td>\n",
       "    </tr>\n",
       "    <tr>\n",
       "      <th>4</th>\n",
       "      <td>18/04/2020</td>\n",
       "      <td>Descartados</td>\n",
       "      <td>2666.0</td>\n",
       "      <td>110.0</td>\n",
       "      <td>271.0</td>\n",
       "      <td>Na</td>\n",
       "    </tr>\n",
       "  </tbody>\n",
       "</table>\n",
       "</div>"
      ],
      "text/plain": [
       "        Fecha    Resultado  Federal   UdeG  Privado Rapidas\n",
       "0  17/04/2020  Confirmados    190.0    0.0     18.0      Na\n",
       "1  17/04/2020  Descartados   2601.0  110.0    271.0      Na\n",
       "2  17/04/2020  Sospechosos    573.0   18.0      0.0      Na\n",
       "3  18/04/2020  Confirmados    196.0    0.0     18.0      Na\n",
       "4  18/04/2020  Descartados   2666.0  110.0    271.0      Na"
      ]
     },
     "execution_count": 2,
     "metadata": {},
     "output_type": "execute_result"
    }
   ],
   "source": [
    "df = pd.read_csv(\"01.01.2022_test_covid19.csv\")\n",
    "del df['Unnamed: 6']\n",
    "\n",
    "df['Federal'] = df['Federal'].str.replace(',','')\n",
    "df['U de G'] = df['U de G'].str.replace(',','')\n",
    "df['Privado'] = df['Privado'].str.replace(',','')\n",
    "df['Privado'] = df['Privado'].str.replace('Na','0')\n",
    "\n",
    "df.rename(columns={'U de G':'UdeG'}, inplace=True)\n",
    "\n",
    "df[\"Privado\"] = df.Privado.astype(float)\n",
    "df[\"UdeG\"] = df.UdeG.astype(float)\n",
    "df[\"Federal\"] = df.Federal.astype(float)\n",
    "\n",
    "\n",
    "df2 = df.iloc[:]\n",
    "del df['Resultado']\n",
    "df2.head()"
   ]
  },
  {
   "cell_type": "markdown",
   "metadata": {},
   "source": [
    "Calculate correlation"
   ]
  },
  {
   "cell_type": "code",
   "execution_count": 3,
   "metadata": {},
   "outputs": [
    {
     "data": {
      "text/html": [
       "<div>\n",
       "<style scoped>\n",
       "    .dataframe tbody tr th:only-of-type {\n",
       "        vertical-align: middle;\n",
       "    }\n",
       "\n",
       "    .dataframe tbody tr th {\n",
       "        vertical-align: top;\n",
       "    }\n",
       "\n",
       "    .dataframe thead th {\n",
       "        text-align: right;\n",
       "    }\n",
       "</style>\n",
       "<table border=\"1\" class=\"dataframe\">\n",
       "  <thead>\n",
       "    <tr style=\"text-align: right;\">\n",
       "      <th></th>\n",
       "      <th>Fecha</th>\n",
       "      <th>Federal</th>\n",
       "      <th>UdeG</th>\n",
       "      <th>Privado</th>\n",
       "      <th>Rapidas</th>\n",
       "    </tr>\n",
       "  </thead>\n",
       "  <tbody>\n",
       "    <tr>\n",
       "      <th>0</th>\n",
       "      <td>17/04/2020</td>\n",
       "      <td>190.0</td>\n",
       "      <td>0.0</td>\n",
       "      <td>18.0</td>\n",
       "      <td>Na</td>\n",
       "    </tr>\n",
       "    <tr>\n",
       "      <th>1</th>\n",
       "      <td>17/04/2020</td>\n",
       "      <td>2601.0</td>\n",
       "      <td>110.0</td>\n",
       "      <td>271.0</td>\n",
       "      <td>Na</td>\n",
       "    </tr>\n",
       "    <tr>\n",
       "      <th>2</th>\n",
       "      <td>17/04/2020</td>\n",
       "      <td>573.0</td>\n",
       "      <td>18.0</td>\n",
       "      <td>0.0</td>\n",
       "      <td>Na</td>\n",
       "    </tr>\n",
       "    <tr>\n",
       "      <th>3</th>\n",
       "      <td>18/04/2020</td>\n",
       "      <td>196.0</td>\n",
       "      <td>0.0</td>\n",
       "      <td>18.0</td>\n",
       "      <td>Na</td>\n",
       "    </tr>\n",
       "    <tr>\n",
       "      <th>4</th>\n",
       "      <td>18/04/2020</td>\n",
       "      <td>2666.0</td>\n",
       "      <td>110.0</td>\n",
       "      <td>271.0</td>\n",
       "      <td>Na</td>\n",
       "    </tr>\n",
       "  </tbody>\n",
       "</table>\n",
       "</div>"
      ],
      "text/plain": [
       "        Fecha  Federal   UdeG  Privado Rapidas\n",
       "0  17/04/2020    190.0    0.0     18.0      Na\n",
       "1  17/04/2020   2601.0  110.0    271.0      Na\n",
       "2  17/04/2020    573.0   18.0      0.0      Na\n",
       "3  18/04/2020    196.0    0.0     18.0      Na\n",
       "4  18/04/2020   2666.0  110.0    271.0      Na"
      ]
     },
     "execution_count": 3,
     "metadata": {},
     "output_type": "execute_result"
    },
    {
     "data": {
      "image/png": "[encoded data removed]",
      "text/plain": [
       "<Figure size 432x288 with 2 Axes>"
      ]
     },
     "metadata": {
      "needs_background": "light"
     },
     "output_type": "display_data"
    }
   ],
   "source": [
    "df_corr = df.corr()\n",
    "sns.heatmap(data=df_corr, vmin=-1, vmax = 1, cmap='YlGn', annot=True, square=True)\n",
    "df.head()"
   ]
  },
  {
   "cell_type": "markdown",
   "metadata": {},
   "source": [
    "## Boxplots"
   ]
  },
  {
   "cell_type": "code",
   "execution_count": 4,
   "metadata": {},
   "outputs": [
    {
     "data": {
      "text/plain": [
       "<AxesSubplot:xlabel='Resultado', ylabel='Privado'>"
      ]
     },
     "execution_count": 4,
     "metadata": {},
     "output_type": "execute_result"
    },
    {
     "data": {
      "image/png": "[encoded data removed]",
      "text/plain": [
       "<Figure size 1440x720 with 3 Axes>"
      ]
     },
     "metadata": {
      "needs_background": "light"
     },
     "output_type": "display_data"
    }
   ],
   "source": [
    "#Confirmed\n",
    "fig, axs = plt.subplots(1, 3, figsize=(20, 10))\n",
    "\n",
    "sns.boxplot(data=df2, y = 'Federal', x='Resultado',ax=axs[0])\n",
    "sns.boxplot(data=df2, y = 'UdeG', ax=axs[1], x='Resultado')\n",
    "sns.boxplot(data=df2, y = 'Privado', ax=axs[2], x='Resultado')\n",
    "\n",
    "\n"
   ]
  },
  {
   "cell_type": "code",
   "execution_count": null,
   "metadata": {},
   "outputs": [],
   "source": []
  }
 ],
 "metadata": {
  "interpreter": {
   "hash": "916dbcbb3f70747c44a77c7bcd40155683ae19c65e1c03b4aa3499c5328201f1"
  },
  "kernelspec": {
   "display_name": "Python 3 (ipykernel)",
   "language": "python",
   "name": "python3"
  },
  "language_info": {
   "codemirror_mode": {
    "name": "ipython",
    "version": 3
   },
   "file_extension": ".py",
   "mimetype": "text/x-python",
   "name": "python",
   "nbconvert_exporter": "python",
   "pygments_lexer": "ipython3",
   "version": "3.9.12"
  }
 },
 "nbformat": 4,
 "nbformat_minor": 2
}
